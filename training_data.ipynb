{
 "cells": [
  {
   "cell_type": "code",
   "execution_count": 7,
   "id": "2af3f04e-191c-436c-9959-be64346b7d7d",
   "metadata": {},
   "outputs": [],
   "source": [
    "import os, importlib, sys\n",
    "from collections import defaultdict\n",
    "from stream.client import draw_minimap, frames_to_map\n",
    "import numpy as np\n",
    "from PIL import Image\n",
    "from helpers import shrink_image, pad_to_square_multiple"
   ]
  },
  {
   "cell_type": "code",
   "execution_count": null,
   "id": "354e5677-3b2b-4f84-a74d-84526ce65c3b",
   "metadata": {},
   "outputs": [],
   "source": [
    "\"\"\"\n",
    "manually captured frames of coast map in 4k\n",
    "- the frames are grouped by key, where each key represents a separate instance of the layout\n",
    "- first frame of a group is always centered at map entrance, we track origin position based on this first frame\n",
    "- the frame groups are further grouped by layout ID, which was assigned by human inspection as ground truth\n",
    "\n",
    "current approach to train a vision transformer:\n",
    "\n",
    "1. for each set of N frames, assemble N minimaps:\n",
    " {frame 0}, {frame 0 + frame 1}, ..., {frame 0 + .. + frame N}\n",
    " where {frame + frame} represents assembling a composite minimap from minimap slices in these frames\n",
    " \n",
    "2. then extract minimap feature masks, crop to minimize surrounding blank space\n",
    "\n",
    "3. each minimap patch set is an input, output is softmax probabilities for N classes, where N is the number of unique layouts\n",
    "\"\"\""
   ]
  },
  {
   "cell_type": "code",
   "execution_count": 45,
   "id": "ec602eec-2c3c-4c62-a0c0-93ce2206eacb",
   "metadata": {},
   "outputs": [],
   "source": [
    "### one-time use code for organizing manually-captured data on disk\n",
    "import shutil\n",
    "\n",
    "# in future, store new training data as:\n",
    "\"\"\"\n",
    "data/train/layout_id/instance_id/frame_id.png\n",
    "where layout_id is assigned by the human labeler\n",
    "instance_id is autoincremented from 0 to positive integers with each new instance data\n",
    "frame_id is autoincremented non-negative integer, \n",
    "  smallest frame_id is the first frame at map origin, collected in chronological order\n",
    "\"\"\"\n",
    "for layout in os.listdir(\"data/train_old\"):\n",
    "    data_dir = os.path.join(\"data/train_old\", layout)\n",
    "    files = set(os.listdir(data_dir))\n",
    "    key_map = {}\n",
    "    for file in files:\n",
    "        if file.endswith(\".png\"):\n",
    "            key = file.split(\"screenshot-\")[0]\n",
    "            if key not in key_map:\n",
    "                if len(key_map.values()) == 0:\n",
    "                    key_map[key] = 0\n",
    "                else:\n",
    "                    key_map[key] = max(key_map.values()) + 1\n",
    "            dest_layout_dir = f\"data/train/{layout}\"\n",
    "            if str(key_map[key]) not in os.listdir(dest_layout_dir):\n",
    "                os.mkdir(f\"{dest_layout_dir}/{key_map[key]}\")\n",
    "            full_path = os.path.join(data_dir, file)\n",
    "            number = int(file.split(\"screenshot-\")[1][:-4])\n",
    "            dest = f\"{dest_layout_dir}/{key_map[key]}/{number}.png\"\n",
    "            shutil.copy(full_path, dest)"
   ]
  },
  {
   "cell_type": "code",
   "execution_count": null,
   "id": "d3833fbf-ffd8-4172-8b7f-2f2f916a49d8",
   "metadata": {},
   "outputs": [],
   "source": []
  },
  {
   "cell_type": "code",
   "execution_count": null,
   "id": "4e9bca13-915e-47d5-b622-7c764c7ea9de",
   "metadata": {},
   "outputs": [],
   "source": [
    "\"\"\"\n",
    "Generate minimap patches:\n",
    "- for every frame, construct minimap up to and including that frame\n",
    "- convert minimap to nonempty patches, track coords of each patch rel. to origin\n",
    "- save data as .npz with 'patches' and 'coords' arrays\n",
    "- during training, we will use 'coords' for position embeddings to be added to patches\n",
    "- every \"frame_id.png\" file will have corresponding \"frame_id.npz\" file with patches/coords\n",
    "\"\"\""
   ]
  },
  {
   "cell_type": "code",
   "execution_count": 143,
   "id": "0bf37582-dd98-4db9-bd0d-b84f5ad42205",
   "metadata": {},
   "outputs": [
    {
     "data": {
      "text/plain": [
       "<module 'stream.client' from '/home/andrew/poemap/stream/client.py'>"
      ]
     },
     "execution_count": 143,
     "metadata": {},
     "output_type": "execute_result"
    }
   ],
   "source": [
    "importlib.reload(sys.modules['stream.client'])"
   ]
  },
  {
   "cell_type": "code",
   "execution_count": 144,
   "id": "b8a1a158-f5ed-42b8-a3d0-0964aa990e2f",
   "metadata": {},
   "outputs": [],
   "source": [
    "from stream.client import get_moves"
   ]
  },
  {
   "cell_type": "code",
   "execution_count": null,
   "id": "a1c1262b-c44f-4782-95e4-51df6b31683b",
   "metadata": {},
   "outputs": [],
   "source": []
  },
  {
   "cell_type": "code",
   "execution_count": 11,
   "id": "f61fd439-e19b-48c6-b92d-7dae61f0fba2",
   "metadata": {},
   "outputs": [
    {
     "data": {
      "text/plain": [
       "{1, 2, 3}"
      ]
     },
     "execution_count": 11,
     "metadata": {},
     "output_type": "execute_result"
    }
   ],
   "source": [
    "a = set((1,2,3))\n",
    "a"
   ]
  },
  {
   "cell_type": "code",
   "execution_count": 12,
   "id": "8eccdab0-59cd-49f2-849c-e24beb4592c7",
   "metadata": {},
   "outputs": [
    {
     "data": {
      "text/plain": [
       "{2, 3}"
      ]
     },
     "execution_count": 12,
     "metadata": {},
     "output_type": "execute_result"
    }
   ],
   "source": [
    "a.pop()\n",
    "a"
   ]
  },
  {
   "cell_type": "code",
   "execution_count": 16,
   "id": "968abe74-a1e4-4427-9f58-f5aa7075f138",
   "metadata": {},
   "outputs": [
    {
     "name": "stdout",
     "output_type": "stream",
     "text": [
      "a\n"
     ]
    }
   ],
   "source": [
    "if set((1,2,3)):\n",
    "    print(\"a\")"
   ]
  },
  {
   "cell_type": "code",
   "execution_count": null,
   "id": "34dffa2e-403b-4933-8e27-363d67758d42",
   "metadata": {},
   "outputs": [],
   "source": []
  },
  {
   "cell_type": "code",
   "execution_count": null,
   "id": "d9f1ffbd-4062-4999-a064-550d8bed7194",
   "metadata": {},
   "outputs": [],
   "source": []
  },
  {
   "cell_type": "code",
   "execution_count": null,
   "id": "299ef806-cd64-4432-ac89-1b52c045ae8d",
   "metadata": {},
   "outputs": [],
   "source": []
  },
  {
   "cell_type": "code",
   "execution_count": 230,
   "id": "f3062aec-221c-4031-9457-58ab70e330ba",
   "metadata": {},
   "outputs": [],
   "source": [
    "from typing import DefaultDict\n",
    "\n",
    "def find_unprocessed_frames(data_dir: str) -> DefaultDict[str, set]:\n",
    "    not_done = defaultdict(set)\n",
    "    for root, dirs, files in os.walk(data_dir):\n",
    "        for file in files:\n",
    "            prefix, ext = os.path.splitext(file)\n",
    "            if ext == \".png\" and f\"{prefix}.npz\" not in files:\n",
    "                #not_done[root].add(os.path.join(root, file))\n",
    "                not_done[root].add(file)\n",
    "    return not_done\n",
    "    \n",
    "get_frame_id = lambda x: int(os.path.splitext(x)[0])\n",
    "\n",
    "# extract middle of 4k frame\n",
    "# player icon is at 1920, 1060, in 4k\n",
    "def crop_frame(frame: np.ndarray, box_radius: int):\n",
    "    return frame[1060-box_radius: 1060+box_radius, 1920-box_radius: 1920+box_radius, :]\n",
    "\n",
    "def prepare_training_data(data_dir):\n",
    "    todo = find_unprocessed_frames(data_dir)\n",
    "    for instance in todo:\n",
    "        # don't process unneeded frames past max_frame_id\n",
    "        max_frame_id = max(get_frame_id(f) for f in todo[instance])\n",
    "        frames = [(get_frame_id(f), f) for f in os.listdir(instance)]\n",
    "        # both frames and moves will be in chronological order due to sorting\n",
    "        frames = sorted([(fid, f) for fid, f in frames if fid <= max_frame_id])\n",
    "        frames = [(fid, crop_frame(np.array(Image.open(os.path.join(instance, f))), 600)) for fid, f in frames]\n",
    "        # calculating moves is expensive, so we do it upfront once for all frames, then slice thereafter\n",
    "        moves = get_moves([f for fid, f in frames])\n",
    "        for target_frame in todo[instance]:\n",
    "            tf_id = get_frame_id(target_frame)\n",
    "            tf_idx = next((i for i, tpl in enumerate(frames) if tpl[0]==tf_id), -1)\n",
    "            frames_subset = np.array([f for fid, f in frames][0:tf_idx + 1])\n",
    "            minimap, origin = draw_minimap(frames_subset, moves[0:tf_idx + 1])\n",
    "\n",
    "            # shrink image, recalculate origin\n",
    "            dims = minimap.shape[0:2]\n",
    "            max_dim_idx = dims.index(max(dims))\n",
    "            new_size = dims[max_dim_idx] // 2\n",
    "            origin = tuple(int(x * new_size / max(dims)) for x in origin)\n",
    "            minimap = shrink_image(minimap, new_size)\n",
    "            # pad image, use mask to track origin position\n",
    "            mask = np.zeros((*minimap.shape[0:2], 1))\n",
    "            mask[origin] = 1\n",
    "            minimap = np.concatenate([minimap, mask], axis=-1)\n",
    "            minimap = pad_to_square_multiple(minimap, 32)\n",
    "            origin = np.where(minimap[..., 3] == 1)\n",
    "            origin = tuple(int(x[0]) for x in origin)\n",
    "            minimap = minimap[:,:,0:3].astype(np.uint8)\n",
    "            yield minimap, origin\n",
    "            #break\n",
    "        break"
   ]
  },
  {
   "cell_type": "code",
   "execution_count": 231,
   "id": "bfc9b515-5f41-4490-825b-4375d1cedf63",
   "metadata": {},
   "outputs": [],
   "source": [
    "asdf = prepare_training_data(\"data/train\")"
   ]
  },
  {
   "cell_type": "code",
   "execution_count": 237,
   "id": "e3a91c6b-5e94-468b-8154-7ae89f57e3a4",
   "metadata": {},
   "outputs": [],
   "source": [
    "m, o = next(asdf)"
   ]
  },
  {
   "cell_type": "code",
   "execution_count": null,
   "id": "899ee566-be00-4a24-9e7b-487b42d936a3",
   "metadata": {},
   "outputs": [],
   "source": []
  },
  {
   "cell_type": "code",
   "execution_count": null,
   "id": "70c29d1c-72f8-4130-9e9b-5ed1f91eede3",
   "metadata": {},
   "outputs": [],
   "source": [
    "# Run inference to extract mask of minimap features"
   ]
  },
  {
   "cell_type": "code",
   "execution_count": null,
   "id": "5e5b5740-01ef-4a19-a9db-5248a21cb4f3",
   "metadata": {},
   "outputs": [],
   "source": [
    "from models import AttentionUNet"
   ]
  },
  {
   "cell_type": "code",
   "execution_count": null,
   "id": "d0072474-8382-48d4-a349-a7d65ca82ef1",
   "metadata": {},
   "outputs": [],
   "source": [
    "model_name = \"AttentionUNet_4\"\n",
    "model = AttentionUNet(model_name)\n",
    "model.load()"
   ]
  },
  {
   "cell_type": "code",
   "execution_count": null,
   "id": "bf975478-d73a-4ea0-9882-39e3a2d3051f",
   "metadata": {},
   "outputs": [],
   "source": [
    "pred = model.batch_inference(padded, chunk_size=32)"
   ]
  },
  {
   "cell_type": "code",
   "execution_count": null,
   "id": "579b912f-ad38-4fe7-96ff-ea02c2b58895",
   "metadata": {},
   "outputs": [],
   "source": [
    "display(Image.fromarray(padded))\n",
    "display(Image.fromarray(pred * 255, mode=\"L\"))"
   ]
  },
  {
   "cell_type": "code",
   "execution_count": null,
   "id": "a579f147-0394-408a-ba43-0955fcebce51",
   "metadata": {},
   "outputs": [],
   "source": [
    "pred.shape"
   ]
  },
  {
   "cell_type": "code",
   "execution_count": null,
   "id": "debc717b-b544-47ec-8bb0-d88963bbe17b",
   "metadata": {},
   "outputs": [],
   "source": [
    "from scipy.ndimage import convolve\n",
    "\n",
    "def crop_to_content(image):\n",
    "    white_pixels = np.argwhere(image == 1)\n",
    "    assert len(white_pixels) > 0\n",
    "    \n",
    "    y_min, x_min = white_pixels.min(axis=0)\n",
    "    y_max, x_max = white_pixels.max(axis=0)\n",
    "    cropped_image = image[y_min:y_max+1, x_min:x_max+1]\n",
    "    return cropped_image, (y_min, x_min)\n",
    "\n",
    "def clean_sparse_pixels(image, threshold=3, neighborhood_size=3):\n",
    "    # Create a kernel for counting neighbors\n",
    "    kernel = np.ones((neighborhood_size, neighborhood_size))\n",
    "    kernel[neighborhood_size//2, neighborhood_size//2] = 0  # Don't count the pixel itself\n",
    "    # Count white neighbors for each pixel\n",
    "    neighbor_count = convolve(image.astype(int), kernel, mode='constant')\n",
    "    # Create a mask of pixels to keep (either black or with enough white neighbors)\n",
    "    mask = (image == 0) | (neighbor_count >= threshold)\n",
    "    # Apply the mask to the original image\n",
    "    cleaned_image = image * mask\n",
    "    \n",
    "    return cleaned_image"
   ]
  },
  {
   "cell_type": "code",
   "execution_count": null,
   "id": "ae38cc83-28f3-4593-8bb3-40a5542f5633",
   "metadata": {},
   "outputs": [],
   "source": [
    "clean = clean_sparse_pixels(pred, threshold=20, neighborhood_size=40)\n",
    "clean, offsets = crop_to_content(clean)\n",
    "display(Image.fromarray(padded))\n",
    "display(Image.fromarray(clean * 255, mode=\"L\"))"
   ]
  },
  {
   "cell_type": "code",
   "execution_count": null,
   "id": "78fe452d-ad7e-4adc-ae96-c23feb879b02",
   "metadata": {},
   "outputs": [],
   "source": [
    "clean_origin = tuple(int(val - offset) for val, offset in zip(shrunk_origin, offsets))"
   ]
  },
  {
   "cell_type": "code",
   "execution_count": null,
   "id": "00625c05-11e3-47ea-a50a-7647f66ff3e2",
   "metadata": {},
   "outputs": [],
   "source": [
    "x, y = clean_origin\n",
    "Image.fromarray(clean[x-50:x+50, y-50:y+50] * 255, mode=\"L\")"
   ]
  },
  {
   "cell_type": "code",
   "execution_count": null,
   "id": "a6cf64c8-dcc5-41aa-a734-dacf9e4fa105",
   "metadata": {},
   "outputs": [],
   "source": [
    "clean.shape"
   ]
  },
  {
   "cell_type": "code",
   "execution_count": null,
   "id": "fecf0224-e32e-429f-a158-bb06ccbc442a",
   "metadata": {},
   "outputs": [],
   "source": [
    "clean_origin"
   ]
  },
  {
   "cell_type": "code",
   "execution_count": null,
   "id": "c001f1a2-232f-4a27-865f-a2c8b7772b2e",
   "metadata": {},
   "outputs": [],
   "source": [
    "# Chunk the map into square patches, label each patch with y,x positions relative to origin\n",
    "# We will use the y,x positions for token position embeddings\n",
    "def get_patches(array, origin, ps=32):\n",
    "    assert len(array.shape) == 2\n",
    "    Y, X = array.shape\n",
    "    # calc num patches in each direction from origin\n",
    "    y, x = origin\n",
    "    up, down = y//ps, (Y-y)//ps\n",
    "    left, right = x//ps, (X-x)//ps\n",
    "    patches = array[y-ps*up : y+ps*down, x-ps*left : x+ps*right]\n",
    "\n",
    "    # calc patch y,x dims for each pixel, relative to origin patch\n",
    "    indices = np.indices(patches.shape).transpose(1,2,0)\n",
    "    indices = indices // ps - np.array([up, left])\n",
    "    patches = patches.reshape(*patches.shape, 1)\n",
    "    patches = np.concatenate([patches, indices], axis=-1)\n",
    "\n",
    "    return patches"
   ]
  },
  {
   "cell_type": "code",
   "execution_count": null,
   "id": "54d48b62-9a32-41cd-801e-bfcc681be3d6",
   "metadata": {},
   "outputs": [],
   "source": [
    "patches = get_patches(clean, clean_origin)"
   ]
  },
  {
   "cell_type": "code",
   "execution_count": null,
   "id": "72784044-e340-43d3-9d32-c525a7c917ec",
   "metadata": {
    "scrolled": true
   },
   "outputs": [],
   "source": [
    "Image.fromarray(patches[:,:,0].astype(np.uint8) * 255, mode=\"L\")"
   ]
  },
  {
   "cell_type": "code",
   "execution_count": null,
   "id": "0da7aece-1177-4a3c-87c4-3d41f0158d12",
   "metadata": {},
   "outputs": [],
   "source": [
    "# Remove completely black patches\n",
    "def get_tokens(patches):\n",
    "    Y,X = patches.shape[0:2]\n",
    "    y_patches, x_patches = Y // 32, X // 32\n",
    "    tokens = []\n",
    "    for i in range(y_patches):\n",
    "        for j in range(x_patches):\n",
    "            patch = patches[i*32 : (i+1)*32, j*32 : (j+1)*32]\n",
    "            if np.any(patch[:,:,0] > 0):\n",
    "                tokens.append(patch)\n",
    "    return np.array(tokens)"
   ]
  },
  {
   "cell_type": "code",
   "execution_count": null,
   "id": "3b1a3b04-5e07-463a-bf72-e9e19a0d51d2",
   "metadata": {},
   "outputs": [],
   "source": [
    "tokens = get_tokens(patches)"
   ]
  },
  {
   "cell_type": "code",
   "execution_count": null,
   "id": "c808249c-c078-41e8-9390-f45b9d30fe85",
   "metadata": {},
   "outputs": [],
   "source": [
    "tokens.shape"
   ]
  },
  {
   "cell_type": "code",
   "execution_count": null,
   "id": "ea39038c-1fce-48e4-9945-2164a27ec5a9",
   "metadata": {},
   "outputs": [],
   "source": [
    "for p in tokens:\n",
    "    #display(Image.fromarray(p[:,:,0].astype(np.uint8) * 255, mode=\"L\"))\n",
    "    pass"
   ]
  },
  {
   "cell_type": "code",
   "execution_count": 248,
   "id": "4d490f8d-ec92-4d35-ae00-37afa7986698",
   "metadata": {},
   "outputs": [
    {
     "data": {
      "text/plain": [
       "(7, 32, 32, 3)"
      ]
     },
     "execution_count": 248,
     "metadata": {},
     "output_type": "execute_result"
    }
   ],
   "source": [
    "x = np.load(\"data/train/4/0/2.npz\")['data']\n",
    "x.shape"
   ]
  },
  {
   "cell_type": "code",
   "execution_count": 251,
   "id": "cadfc11b-e631-4ea3-a2d9-7dec1c8cca91",
   "metadata": {},
   "outputs": [
    {
     "data": {
      "image/jpeg": "[encoded data removed]",
      "image/png": "[encoded data removed]",
      "text/plain": [
       "<PIL.Image.Image image mode=L size=32x32>"
      ]
     },
     "metadata": {},
     "output_type": "display_data"
    },
    {
     "data": {
      "image/jpeg": "[encoded data removed]",
      "image/png": "[encoded data removed]",
      "text/plain": [
       "<PIL.Image.Image image mode=L size=32x32>"
      ]
     },
     "metadata": {},
     "output_type": "display_data"
    },
    {
     "data": {
      "image/jpeg": "[encoded data removed]",
      "image/png": "[encoded data removed]",
      "text/plain": [
       "<PIL.Image.Image image mode=L size=32x32>"
      ]
     },
     "metadata": {},
     "output_type": "display_data"
    },
    {
     "data": {
      "image/jpeg": "[encoded data removed]",
      "image/png": "[encoded data removed]",
      "text/plain": [
       "<PIL.Image.Image image mode=L size=32x32>"
      ]
     },
     "metadata": {},
     "output_type": "display_data"
    },
    {
     "data": {
      "image/jpeg": "[encoded data removed]",
      "image/png": "[encoded data removed]",
      "text/plain": [
       "<PIL.Image.Image image mode=L size=32x32>"
      ]
     },
     "metadata": {},
     "output_type": "display_data"
    },
    {
     "data": {
      "image/jpeg": "[encoded data removed]",
      "image/png": "[encoded data removed]",
      "text/plain": [
       "<PIL.Image.Image image mode=L size=32x32>"
      ]
     },
     "metadata": {},
     "output_type": "display_data"
    },
    {
     "data": {
      "image/jpeg": "[encoded data removed]",
      "image/png": "[encoded data removed]",
      "text/plain": [
       "<PIL.Image.Image image mode=L size=32x32>"
      ]
     },
     "metadata": {},
     "output_type": "display_data"
    }
   ],
   "source": [
    "for p in range(x.shape[0]):\n",
    "    display(Image.fromarray(x[p,:,:,0].astype(np.uint8) * 255, mode=\"L\"))"
   ]
  },
  {
   "cell_type": "code",
   "execution_count": null,
   "id": "11bcd9e5-4aa3-45dd-ab80-5eb3218287e3",
   "metadata": {},
   "outputs": [],
   "source": []
  },
  {
   "cell_type": "code",
   "execution_count": null,
   "id": "181b5f6b-8c6d-4961-96a6-c00de253f7d1",
   "metadata": {},
   "outputs": [],
   "source": []
  },
  {
   "cell_type": "code",
   "execution_count": 256,
   "id": "74a3cbf9-b55b-45a2-98f0-3e133ee595c8",
   "metadata": {},
   "outputs": [
    {
     "data": {
      "text/plain": [
       "(15, 32, 32, 3)"
      ]
     },
     "execution_count": 256,
     "metadata": {},
     "output_type": "execute_result"
    }
   ],
   "source": [
    "x = np.load(\"data/train/4/0/2.npz\")['data']\n",
    "x.shape"
   ]
  },
  {
   "cell_type": "code",
   "execution_count": 282,
   "id": "4a4336d7-4a2b-4666-9456-9acd00f2a420",
   "metadata": {
    "scrolled": true
   },
   "outputs": [
    {
     "data": {
      "image/jpeg": "[encoded data removed]",
      "image/png": "[encoded data removed]",
      "text/plain": [
       "<PIL.Image.Image image mode=L size=32x32>"
      ]
     },
     "metadata": {},
     "output_type": "display_data"
    },
    {
     "name": "stdout",
     "output_type": "stream",
     "text": [
      "-11\n",
      "8\n"
     ]
    },
    {
     "data": {
      "image/jpeg": "[encoded data removed]",
      "image/png": "[encoded data removed]",
      "text/plain": [
       "<PIL.Image.Image image mode=L size=32x32>"
      ]
     },
     "metadata": {},
     "output_type": "display_data"
    },
    {
     "name": "stdout",
     "output_type": "stream",
     "text": [
      "-10\n",
      "8\n"
     ]
    },
    {
     "data": {
      "image/jpeg": "[encoded data removed]",
      "image/png": "[encoded data removed]",
      "text/plain": [
       "<PIL.Image.Image image mode=L size=32x32>"
      ]
     },
     "metadata": {},
     "output_type": "display_data"
    },
    {
     "name": "stdout",
     "output_type": "stream",
     "text": [
      "-10\n",
      "9\n"
     ]
    },
    {
     "data": {
      "image/jpeg": "[encoded data removed]",
      "image/png": "[encoded data removed]",
      "text/plain": [
       "<PIL.Image.Image image mode=L size=32x32>"
      ]
     },
     "metadata": {},
     "output_type": "display_data"
    },
    {
     "name": "stdout",
     "output_type": "stream",
     "text": [
      "-8\n",
      "8\n"
     ]
    },
    {
     "data": {
      "image/jpeg": "[encoded data removed]",
      "image/png": "[encoded data removed]",
      "text/plain": [
       "<PIL.Image.Image image mode=L size=32x32>"
      ]
     },
     "metadata": {},
     "output_type": "display_data"
    },
    {
     "name": "stdout",
     "output_type": "stream",
     "text": [
      "-8\n",
      "9\n"
     ]
    },
    {
     "data": {
      "image/jpeg": "[encoded data removed]",
      "image/png": "[encoded data removed]",
      "text/plain": [
       "<PIL.Image.Image image mode=L size=32x32>"
      ]
     },
     "metadata": {},
     "output_type": "display_data"
    },
    {
     "name": "stdout",
     "output_type": "stream",
     "text": [
      "-4\n",
      "2\n"
     ]
    },
    {
     "data": {
      "image/jpeg": "[encoded data removed]",
      "image/png": "[encoded data removed]",
      "text/plain": [
       "<PIL.Image.Image image mode=L size=32x32>"
      ]
     },
     "metadata": {},
     "output_type": "display_data"
    },
    {
     "name": "stdout",
     "output_type": "stream",
     "text": [
      "-3\n",
      "-1\n"
     ]
    },
    {
     "data": {
      "image/jpeg": "[encoded data removed]",
      "image/png": "[encoded data removed]",
      "text/plain": [
       "<PIL.Image.Image image mode=L size=32x32>"
      ]
     },
     "metadata": {},
     "output_type": "display_data"
    },
    {
     "name": "stdout",
     "output_type": "stream",
     "text": [
      "-3\n",
      "0\n"
     ]
    },
    {
     "data": {
      "image/jpeg": "[encoded data removed]",
      "image/png": "[encoded data removed]",
      "text/plain": [
       "<PIL.Image.Image image mode=L size=32x32>"
      ]
     },
     "metadata": {},
     "output_type": "display_data"
    },
    {
     "name": "stdout",
     "output_type": "stream",
     "text": [
      "-3\n",
      "1\n"
     ]
    },
    {
     "data": {
      "image/jpeg": "[encoded data removed]",
      "image/png": "[encoded data removed]",
      "text/plain": [
       "<PIL.Image.Image image mode=L size=32x32>"
      ]
     },
     "metadata": {},
     "output_type": "display_data"
    },
    {
     "name": "stdout",
     "output_type": "stream",
     "text": [
      "-3\n",
      "2\n"
     ]
    },
    {
     "data": {
      "image/jpeg": "[encoded data removed]",
      "image/png": "[encoded data removed]",
      "text/plain": [
       "<PIL.Image.Image image mode=L size=32x32>"
      ]
     },
     "metadata": {},
     "output_type": "display_data"
    },
    {
     "name": "stdout",
     "output_type": "stream",
     "text": [
      "-2\n",
      "-1\n"
     ]
    },
    {
     "data": {
      "image/jpeg": "[encoded data removed]",
      "image/png": "[encoded data removed]",
      "text/plain": [
       "<PIL.Image.Image image mode=L size=32x32>"
      ]
     },
     "metadata": {},
     "output_type": "display_data"
    },
    {
     "name": "stdout",
     "output_type": "stream",
     "text": [
      "-2\n",
      "0\n"
     ]
    },
    {
     "data": {
      "image/jpeg": "[encoded data removed]",
      "image/png": "[encoded data removed]",
      "text/plain": [
       "<PIL.Image.Image image mode=L size=32x32>"
      ]
     },
     "metadata": {},
     "output_type": "display_data"
    },
    {
     "name": "stdout",
     "output_type": "stream",
     "text": [
      "-1\n",
      "-1\n"
     ]
    },
    {
     "data": {
      "image/jpeg": "[encoded data removed]",
      "image/png": "[encoded data removed]",
      "text/plain": [
       "<PIL.Image.Image image mode=L size=32x32>"
      ]
     },
     "metadata": {},
     "output_type": "display_data"
    },
    {
     "name": "stdout",
     "output_type": "stream",
     "text": [
      "0\n",
      "-1\n"
     ]
    },
    {
     "data": {
      "image/jpeg": "[encoded data removed]",
      "image/png": "[encoded data removed]",
      "text/plain": [
       "<PIL.Image.Image image mode=L size=32x32>"
      ]
     },
     "metadata": {},
     "output_type": "display_data"
    },
    {
     "name": "stdout",
     "output_type": "stream",
     "text": [
      "1\n",
      "-1\n"
     ]
    }
   ],
   "source": [
    "for p in range(x.shape[0]):\n",
    "    display(Image.fromarray(x[p,:,:,0].astype(np.uint8) * 255, mode=\"L\"))\n",
    "    print(x[p,0,0,1])\n",
    "    print(x[p,0,0,2])"
   ]
  },
  {
   "cell_type": "code",
   "execution_count": null,
   "id": "137cc1b7-f3d6-49f3-981e-a69c0b8c8394",
   "metadata": {},
   "outputs": [],
   "source": []
  },
  {
   "cell_type": "code",
   "execution_count": null,
   "id": "9f9aee94-96a7-40cf-ad13-1033eda2a3a4",
   "metadata": {},
   "outputs": [],
   "source": [
    "\"\"\"\n",
    "Training:\n",
    "- Group all \"frame_id.npz\" filenames by class (layout_id)\n",
    "- Sample enough npz files to fill GPU memory while maintaining class balance,\n",
    "  accumulate gradients if needed\n",
    "\"\"\""
   ]
  },
  {
   "cell_type": "code",
   "execution_count": null,
   "id": "83ae6039-10eb-49ed-8222-79ffed582b94",
   "metadata": {},
   "outputs": [],
   "source": [
    "for module in ('models.vit', 'models'):\n",
    "    client_module = sys.modules[module]\n",
    "    importlib.reload(client_module)\n",
    "from models import ViT"
   ]
  },
  {
   "cell_type": "code",
   "execution_count": null,
   "id": "3358d0a6-fbe8-41eb-84cf-bb4c01f330df",
   "metadata": {},
   "outputs": [],
   "source": [
    "model = ViT(9, max_tokens=128, layers=3, embed_dim=256, num_heads=4)\n",
    "#model_name = \"AttentionUNet_1\"\n",
    "#model = ViT(model_name)\n",
    "#model.train()"
   ]
  },
  {
   "cell_type": "code",
   "execution_count": null,
   "id": "3520a895-22b0-495f-9330-d97337dc812e",
   "metadata": {},
   "outputs": [],
   "source": [
    "tokens.shape"
   ]
  },
  {
   "cell_type": "code",
   "execution_count": null,
   "id": "3d2ddef7-efc0-4df2-993b-077723404060",
   "metadata": {},
   "outputs": [],
   "source": [
    "y = model([tokens])"
   ]
  },
  {
   "cell_type": "code",
   "execution_count": null,
   "id": "1f1f493d-9d56-4178-91ce-fdfcc0f04a1a",
   "metadata": {},
   "outputs": [],
   "source": [
    "y = y.numpy().ravel()"
   ]
  },
  {
   "cell_type": "code",
   "execution_count": null,
   "id": "e3ff1bea-d9c2-42a5-98aa-9d30857d7edb",
   "metadata": {},
   "outputs": [],
   "source": [
    "y.shape"
   ]
  },
  {
   "cell_type": "code",
   "execution_count": null,
   "id": "8f36c3e5-7828-4aa6-b328-2ef75a6b6dbf",
   "metadata": {},
   "outputs": [],
   "source": [
    "y.argmax()"
   ]
  }
 ],
 "metadata": {
  "kernelspec": {
   "display_name": "poemap",
   "language": "python",
   "name": "poemap"
  },
  "language_info": {
   "codemirror_mode": {
    "name": "ipython",
    "version": 3
   },
   "file_extension": ".py",
   "mimetype": "text/x-python",
   "name": "python",
   "nbconvert_exporter": "python",
   "pygments_lexer": "ipython3",
   "version": "3.11.9"
  }
 },
 "nbformat": 4,
 "nbformat_minor": 5
}
