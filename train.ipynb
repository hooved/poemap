{
 "cells": [
  {
   "cell_type": "code",
   "execution_count": null,
   "id": "b994a7f9-78fc-488f-853e-57392a1f0584",
   "metadata": {},
   "outputs": [],
   "source": [
    "from PIL import Image\n",
    "import numpy as np\n",
    "import os, glob\n",
    "from dataloader import DataLoader\n",
    "from models import UNet, AttentionUNet\n",
    "from tinygrad import dtypes\n",
    "from helpers import pad_to_square_multiple\n",
    "#from training_data import clean_sparse_pixels, get_patches, get_tokens, extract_map_features\n",
    "from training_data import tokenize_minimap, ViTDataLoader"
   ]
  },
  {
   "cell_type": "code",
   "execution_count": null,
   "id": "119dfa8b-56b5-4da9-a4be-880abedd0533",
   "metadata": {},
   "outputs": [],
   "source": []
  },
  {
   "cell_type": "code",
   "execution_count": null,
   "id": "dd5a3172-7267-44ac-b815-092d0eefec3a",
   "metadata": {},
   "outputs": [],
   "source": [
    "dl = DataLoader(\n",
    "    image_dir=\"data/auto_crop\",\n",
    "    mask_dir=\"data/mask\",\n",
    "    patch_size=(64,64),\n",
    ")"
   ]
  },
  {
   "cell_type": "markdown",
   "id": "21cdc323-bd45-4545-94a5-22785c6ab392",
   "metadata": {},
   "source": [
    "# Compare raw data vs. desired map features (true mask)"
   ]
  },
  {
   "cell_type": "code",
   "execution_count": null,
   "id": "01af56f3-28ca-4591-8290-de4d86cdd514",
   "metadata": {
    "scrolled": true
   },
   "outputs": [],
   "source": [
    "dl.normalize=False\n",
    "for a,b in zip(*dl.get_batch(16)):\n",
    "    a = a.numpy().astype(np.uint8).transpose(1,2,0)\n",
    "    b = b.numpy().astype(np.uint8) * 255\n",
    "    if np.any(b > 0):\n",
    "        display(Image.fromarray(a))\n",
    "        display(Image.fromarray(b, mode=\"L\"))\n",
    "dl.normalize=True"
   ]
  },
  {
   "cell_type": "code",
   "execution_count": null,
   "id": "79a2a6cf-f893-4e8e-b959-ee3f09b3a2df",
   "metadata": {},
   "outputs": [],
   "source": []
  },
  {
   "cell_type": "markdown",
   "id": "f5ba2773-7040-401f-ad6e-889ea2730378",
   "metadata": {},
   "source": [
    "# Compare predicted mask vs. true mask"
   ]
  },
  {
   "cell_type": "code",
   "execution_count": null,
   "id": "e373e2f0-65cb-43b3-8e40-f16e8eacd6bb",
   "metadata": {},
   "outputs": [],
   "source": [
    "x, y = dl.get_batch(10)\n",
    "\n",
    "y_pred = model(x).argmax(axis=1).cast(dtypes.uint8).numpy()\n",
    "y = y.cast(dtypes.uint8).numpy()\n",
    "for a,b in zip(y_pred,y):\n",
    "    if np.any(b > 0):\n",
    "    #if True:\n",
    "        display(Image.fromarray(a * 255, mode=\"L\"))\n",
    "        display(Image.fromarray(b * 255, mode=\"L\"))\n",
    "        print(\"---------------------------------\")"
   ]
  },
  {
   "cell_type": "code",
   "execution_count": null,
   "id": "3afa27d1-05a6-4e0f-92c6-f39f236265be",
   "metadata": {},
   "outputs": [],
   "source": []
  },
  {
   "cell_type": "code",
   "execution_count": null,
   "id": "e04ae5eb-731c-4250-a94c-d83c6be17076",
   "metadata": {},
   "outputs": [],
   "source": [
    "import glob, time\n",
    "from IPython.display import clear_output"
   ]
  },
  {
   "cell_type": "code",
   "execution_count": null,
   "id": "f84fa188-6969-4e96-9888-573584146c60",
   "metadata": {},
   "outputs": [],
   "source": [
    "layouts = sorted(list(set(glob.glob(\"data/train/*/*/*.png\")) - set(glob.glob(\"data/train/*/*/*_mask.png\"))))"
   ]
  },
  {
   "cell_type": "code",
   "execution_count": null,
   "id": "5c7df9bf-be26-4266-9844-0d4562acb758",
   "metadata": {},
   "outputs": [],
   "source": [
    "len(layouts)"
   ]
  },
  {
   "cell_type": "code",
   "execution_count": null,
   "id": "57c09217-04b4-48bb-ba5a-70067d836ac7",
   "metadata": {},
   "outputs": [],
   "source": []
  },
  {
   "cell_type": "code",
   "execution_count": null,
   "id": "10c0b1ae-067b-4578-a77e-8900a13b4f6a",
   "metadata": {},
   "outputs": [],
   "source": [
    "models = {\n",
    "    \"AttentionUNet8_8600\": AttentionUNet(\"AttentionUNet8_8600\", depth=3),\n",
    "}\n",
    "\n",
    "for model in models.values():\n",
    "    model.load()"
   ]
  },
  {
   "cell_type": "code",
   "execution_count": null,
   "id": "8cfec71b-d05c-41af-a166-c37829565a50",
   "metadata": {},
   "outputs": [],
   "source": [
    "layout_n = 4\n",
    "x = 8\n",
    "for layout in layouts[layout_n*x: layout_n*x + layout_n]:\n",
    "\n",
    "# 8, 9, 29, 32\n",
    "#x = 0\n",
    "#for layout in layouts[x:x+4]:\n",
    "    test = Image.open(layout)\n",
    "    #display(test)\n",
    "    test = pad_to_square_multiple(np.array(test), 32)\n",
    "    for name, model in models.items():\n",
    "        print(name)\n",
    "        pred = model.batch_inference(test, chunk_size=32)\n",
    "        pred = clean_sparse_pixels(pred, threshold=10, neighborhood_size=15)\n",
    "        display(Image.fromarray(pred * 255, mode=\"L\"))\n",
    "        #time.sleep(15)\n",
    "        #clear_output()"
   ]
  },
  {
   "cell_type": "code",
   "execution_count": null,
   "id": "16df6a7e-be1d-4704-bb99-2cdf9b1c69a2",
   "metadata": {},
   "outputs": [],
   "source": []
  },
  {
   "cell_type": "code",
   "execution_count": null,
   "id": "bcbf5ab1-2efd-4142-8c73-0047afa03938",
   "metadata": {},
   "outputs": [],
   "source": [
    "#Image.fromarray(clean_sparse_pixels(pred, threshold=10, neighborhood_size=15) * 255, mode=\"L\")"
   ]
  },
  {
   "cell_type": "markdown",
   "id": "3b3d6a7f-c903-4b04-97e0-072df86d373c",
   "metadata": {},
   "source": [
    "# Recompute layout masks for vit training"
   ]
  },
  {
   "cell_type": "code",
   "execution_count": null,
   "id": "937691a7-705f-4a40-b043-99741bac492d",
   "metadata": {},
   "outputs": [],
   "source": [
    "layouts = sorted(list(set(glob.glob(\"data/train/*/*/*.png\")) - set(glob.glob(\"data/train/*/*/*_mask.png\"))))\n",
    "model = AttentionUNet(\"AttentionUNet8_8600\", depth=3).load()"
   ]
  },
  {
   "cell_type": "code",
   "execution_count": null,
   "id": "e92193c1-9b32-44f1-a75f-89128cb7ee96",
   "metadata": {},
   "outputs": [],
   "source": [
    "for layout in layouts[0:1]:\n",
    "    minimap = np.array(Image.open(layout))\n",
    "    wd = os.path.dirname(layout)\n",
    "    num = os.path.splitext(os.path.basename(layout))[0]\n",
    "    origin = np.load(os.path.join(wd, f\"{num}_origin.npz\"))['data']\n",
    "    tokens, mask = tokenize_minimap(minimap, origin, model)\n",
    "    display(Image.fromarray(mask * 255, mode=\"L\"))\n",
    "    break"
   ]
  },
  {
   "cell_type": "code",
   "execution_count": null,
   "id": "50273750-9ae2-4087-a963-59607650913e",
   "metadata": {},
   "outputs": [],
   "source": [
    "origin"
   ]
  },
  {
   "cell_type": "code",
   "execution_count": null,
   "id": "28c7fe01-f801-4564-9c2d-6e205b695803",
   "metadata": {},
   "outputs": [],
   "source": [
    "Image.fromarray(minimap[origin[0]-100: origin[0]+100, origin[1]-100: origin[1]+100] * 255, mode=\"L\")"
   ]
  },
  {
   "cell_type": "code",
   "execution_count": null,
   "id": "ee183ec9-c1c4-4614-b6cd-ef25ad66782c",
   "metadata": {},
   "outputs": [],
   "source": []
  },
  {
   "cell_type": "code",
   "execution_count": null,
   "id": "2e801229-e98a-493a-919a-f7ec18cbe844",
   "metadata": {},
   "outputs": [],
   "source": [
    "for layout in layouts:\n",
    "    wd = os.path.dirname(layout)\n",
    "    num = os.path.splitext(os.path.basename(layout))[0]\n",
    "    mask = Image.open(os.path.join(wd, f\"{num}_mask.png\"))\n",
    "    display(mask)"
   ]
  },
  {
   "cell_type": "code",
   "execution_count": null,
   "id": "2d6f4a15-e46f-4426-a1e5-c548a2774890",
   "metadata": {},
   "outputs": [],
   "source": []
  },
  {
   "cell_type": "markdown",
   "id": "02cba5d8-e103-4529-8379-bf8901853909",
   "metadata": {},
   "source": [
    "# Simulate player exploration of layout"
   ]
  },
  {
   "cell_type": "markdown",
   "id": "5cb60959-a95a-4636-8dcf-f595df1921d6",
   "metadata": {},
   "source": [
    "The layout has been divided up into 2D square patch tokens\n",
    "\n",
    "To train the ViT, we randomly sample tokens, with bias to skew sampling nearer to entrance"
   ]
  },
  {
   "cell_type": "code",
   "execution_count": null,
   "id": "c8485b5d-e6db-4203-95d5-f1d855129220",
   "metadata": {},
   "outputs": [],
   "source": [
    "# Decide how many tokens have been seen\n",
    "# Skew heavily toward smaller numbers to focus training on sample size useful to the player\n",
    "# Because the player wants to know the layout ASAP after entering, with minimal tokens\n",
    "num_samples = 8 + np.random.beta(1.3, 1.3 * 3, size=1) * 120\n",
    "num_samples = np.round(num_samples).astype(np.uint32)\n",
    "\n",
    "# Filter tokens that are too far from origin to be traveled to within a limited number of tokens seen\n",
    "filtered = tokens[tokens[:, -1, -1, -1] <= num_samples**2]\n",
    "\n",
    "# From the filtered set of tokens we could theoretically have traveled to,\n",
    "#  randomly sample tokens, skewed toward being close to the origin (entrance)\n",
    "\n",
    "\"\"\"\n",
    "  In theory if we traveled in a straight line from origin and encountered map features there, \n",
    "then we'll allow those farthest map features to be sampled only if we get the max value from\n",
    "this beta distribution.\n",
    "  If we sample the min value from this beta dist., then we sample the num_samples closest tokens to the origin.\n",
    "\n",
    "  We use below alpha/beta params to simulate typical exploration, which is rarely a perfect straight line from origin.\n",
    "\"\"\"\n",
    "#diff_samples = (filtered.shape[0] - num_samples) * np.random.beta(2, 2 * 1.5, size=5)\n",
    "diff_samples = (filtered.shape[0] - num_samples) * np.random.beta(2, 2 * 3, size=1)\n",
    "sample_pools = num_samples + diff_samples\n",
    "sample_pools = np.round(sample_pools).astype(np.uint32)\n",
    "print(f\"num tokens: {num_samples[0]}\")\n",
    "print(f\"filtered token limit: {filtered.shape[0]}\")\n",
    "print(f\"total tokens: {tokens.shape[0]}\")\n",
    "print(f\"max patch length: {(tokens[-1, -1, -1, -1])}\")\n",
    "#sel = sorted([int(x) for x in sel])\n",
    "display(sample_pools)\n",
    "print()\n",
    "\n",
    "for max_token_idx in sample_pools:\n",
    "    print(f\"max_token_idx: {max_token_idx}\")\n",
    "    # Sample randomly within the window defined above\n",
    "    sel = np.random.choice(max_token_idx, size=num_samples, replace=False)\n",
    "    print(sorted([int(x) for x in sel]))\n",
    "    print(sorted([int(x) for x in tokens[sel, -1, -1, -1]]))\n",
    "    print()\n",
    "#sel = np.random.choice(filtered.shape[0], size=num_samples, replace=False)\n",
    "#display(tokens[sample_pools, -1, -1, -1])"
   ]
  },
  {
   "cell_type": "code",
   "execution_count": null,
   "id": "af148ff1-0ead-49e0-bbab-48dbb4ff0b91",
   "metadata": {},
   "outputs": [],
   "source": [
    "tokens[sel].shape"
   ]
  },
  {
   "cell_type": "code",
   "execution_count": null,
   "id": "6098d537-1a79-4113-a16b-b7d44ecc3caa",
   "metadata": {},
   "outputs": [],
   "source": [
    "sample_pools[0]"
   ]
  },
  {
   "cell_type": "code",
   "execution_count": null,
   "id": "c308559a-1827-4230-82c5-a054f555ba68",
   "metadata": {},
   "outputs": [],
   "source": [
    "np.random.choice(sample_pools[0], size=num_samples, replace=False)"
   ]
  },
  {
   "cell_type": "code",
   "execution_count": null,
   "id": "5e8a756f-a290-414c-a74b-6cdeda903a9f",
   "metadata": {},
   "outputs": [],
   "source": []
  },
  {
   "cell_type": "code",
   "execution_count": null,
   "id": "6c26bbf0-464b-464a-8022-8cd8c85e8638",
   "metadata": {},
   "outputs": [],
   "source": [
    "filtered.shape"
   ]
  },
  {
   "cell_type": "code",
   "execution_count": null,
   "id": "3a835535-57f3-48b0-8580-bafeaadc6c6c",
   "metadata": {},
   "outputs": [],
   "source": [
    "tokens.shape"
   ]
  },
  {
   "cell_type": "code",
   "execution_count": null,
   "id": "c9a2e09c-2e77-4df0-af90-65b92e6dcab5",
   "metadata": {},
   "outputs": [],
   "source": [
    "import numpy as np\n",
    "import matplotlib.pyplot as plt\n",
    "from scipy.stats import beta\n",
    "\n",
    "# Parameters\n",
    "alpha = 2\n",
    "beta_param = 3 * alpha  # Shape parameter β to set mean = 0.2\n",
    "#alpha = 1.3 \n",
    "#beta_param = 3 * alpha  # Shape parameter β to set mean = 0.2\n",
    "#beta_param = 1.08\n",
    "\n",
    "# Define the domain\n",
    "x = np.linspace(0, 1, 1000)\n",
    "\n",
    "# Compute the PDF of the Beta distribution\n",
    "pdf = beta.pdf(x, alpha, beta_param)\n",
    "\n",
    "# Plotting the distribution\n",
    "plt.figure(figsize=(8, 5))\n",
    "plt.plot(x, pdf, label=f'Beta PDF (α={alpha}, β={beta_param})', color='blue')\n",
    "plt.title('Skewed Beta Distribution with Mean = 0.2')\n",
    "plt.xlabel('x')\n",
    "plt.ylabel('Probability Density')\n",
    "plt.legend()\n",
    "plt.grid(True)\n",
    "plt.show()"
   ]
  },
  {
   "cell_type": "code",
   "execution_count": null,
   "id": "a064574e-2ec5-46c5-87a1-48504b1baafe",
   "metadata": {},
   "outputs": [],
   "source": []
  },
  {
   "cell_type": "code",
   "execution_count": null,
   "id": "11e1a4c6-8cd9-430b-b7ec-eadd0f1d2281",
   "metadata": {},
   "outputs": [],
   "source": [
    "alpha = 2\n",
    "beta_param = 1.5 * alpha\n",
    "samples = np.random.beta(alpha, beta_param, size=10)\n",
    "sorted([float(x) for x in samples])"
   ]
  },
  {
   "cell_type": "code",
   "execution_count": null,
   "id": "f1440125-5930-42ff-a556-6271ddc1753d",
   "metadata": {},
   "outputs": [],
   "source": []
  },
  {
   "cell_type": "markdown",
   "id": "43afa528-168a-417e-a211-6f2aeda906b1",
   "metadata": {},
   "source": [
    "# Visualize layout samples used in training"
   ]
  },
  {
   "cell_type": "code",
   "execution_count": null,
   "id": "6bd36012-7046-4593-bed9-b0a5be82c621",
   "metadata": {},
   "outputs": [],
   "source": [
    "dl = ViTDataLoader(data_dir=\"data/train\")"
   ]
  },
  {
   "cell_type": "code",
   "execution_count": null,
   "id": "c756dcb8-4eae-430b-a12d-48e65bb39b9e",
   "metadata": {},
   "outputs": [],
   "source": [
    "X,Y = dl.get_training_data(max_tokens=128)\n",
    "x = X[-1]\n",
    "print(x.shape)\n",
    "sub = np.zeros(x.shape, dtype=np.int64)\n",
    "sub[:,:,:,1] = x[:,0,0,1].min()\n",
    "sub[:,:,:,2] = x[:,0,0,2].min()\n",
    "x = x - sub\n",
    "h, w = int(x[:,0,0,1].max()), int(x[:,0,0,2].max())\n",
    "#canv = np.zeros((h*ps, w*ps), dtype=np.uint8)\n",
    "canv = np.zeros((ps+h*ps, ps+w*ps), dtype=np.uint8)"
   ]
  },
  {
   "cell_type": "code",
   "execution_count": null,
   "id": "6b9239bd-29eb-4a65-9682-23964aa1784a",
   "metadata": {},
   "outputs": [],
   "source": [
    "for p in x:\n",
    "    h0 = p[0,0,1]\n",
    "    #print(h0)\n",
    "    w0 = p[0,0,2]\n",
    "    #print(w0)\n",
    "    canv[h0*ps: h0*ps+ps, w0*ps:w0*ps+ps] = p[:,:,0].astype(np.uint8)\n",
    "Image.fromarray(canv * 255, mode=\"L\")"
   ]
  },
  {
   "cell_type": "code",
   "execution_count": null,
   "id": "8fd8b4ba-2a5d-4ccc-af13-70d1c46db77f",
   "metadata": {},
   "outputs": [],
   "source": []
  },
  {
   "cell_type": "code",
   "execution_count": null,
   "id": "01f5fbdd-b81a-46b9-869d-8fc7de34e2e2",
   "metadata": {},
   "outputs": [],
   "source": []
  }
 ],
 "metadata": {
  "kernelspec": {
   "display_name": "poemap",
   "language": "python",
   "name": "poemap"
  },
  "language_info": {
   "codemirror_mode": {
    "name": "ipython",
    "version": 3
   },
   "file_extension": ".py",
   "mimetype": "text/x-python",
   "name": "python",
   "nbconvert_exporter": "python",
   "pygments_lexer": "ipython3",
   "version": "3.11.9"
  }
 },
 "nbformat": 4,
 "nbformat_minor": 5
}
