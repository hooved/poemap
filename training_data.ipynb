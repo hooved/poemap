{
 "cells": [
  {
   "cell_type": "code",
   "execution_count": null,
   "id": "2af3f04e-191c-436c-9959-be64346b7d7d",
   "metadata": {},
   "outputs": [],
   "source": [
    "import os, importlib, sys\n",
    "from collections import defaultdict\n",
    "from stream.client import draw_minimap, frames_to_map\n",
    "import numpy as np\n",
    "from PIL import Image"
   ]
  },
  {
   "cell_type": "code",
   "execution_count": null,
   "id": "354e5677-3b2b-4f84-a74d-84526ce65c3b",
   "metadata": {},
   "outputs": [],
   "source": [
    "\"\"\"\n",
    "manually captured frames of coast map in 4k\n",
    "- the frames are grouped by key, where each key represents a separate instance of the layout\n",
    "- first frame of a group is always centered at map entrance, we track origin position based on this first frame\n",
    "- the frame groups are further grouped by layout ID, which was assigned by human inspection as ground truth\n",
    "\n",
    "current approach to train a vision transformer:\n",
    "\n",
    "1. for each set of N frames, assemble N minimaps:\n",
    " {frame 0}, {frame 0 + frame 1}, ..., {frame 0 + .. + frame N}\n",
    " where {frame + frame} represents assembling a composite minimap from minimap slices in these frames\n",
    " \n",
    "2. then extract minimap feature masks, crop to minimize surrounding blank space\n",
    "\n",
    "3. each minimap mask is an input, output is softmax probabilities for N classes, where N is the number of unique layouts\n",
    "\"\"\""
   ]
  },
  {
   "cell_type": "code",
   "execution_count": null,
   "id": "705b1e14-f157-4efb-b8ec-4f5120197ffa",
   "metadata": {},
   "outputs": [],
   "source": [
    "# Load 4k screenshots\n",
    "layouts = {}\n",
    "for layout in os.listdir(\"data/train\"):\n",
    "    frames = defaultdict(dict)\n",
    "    data_dir = os.path.join(\"data/train\", layout)\n",
    "    for file in os.listdir(data_dir):\n",
    "        if file.endswith(\".png\"):\n",
    "            key = file.split(\"screenshot-\")[0]\n",
    "            full_path = os.path.join(data_dir, file)\n",
    "            number = int(file.split(\"screenshot-\")[1][:-4])\n",
    "            frames[key][number] = np.array(Image.open(full_path))\n",
    "    layouts[int(layout)] = frames\n",
    "    #break"
   ]
  },
  {
   "cell_type": "code",
   "execution_count": null,
   "id": "b6b8545a-61d7-4ace-89d9-61e913d5f2c4",
   "metadata": {},
   "outputs": [],
   "source": [
    "# First extract middle of 4k frame\n",
    "# player icon is at 1920, 1060, in 4k"
   ]
  },
  {
   "cell_type": "code",
   "execution_count": null,
   "id": "f8d2a51d-792c-49f8-888a-4edb4298fbca",
   "metadata": {},
   "outputs": [],
   "source": [
    "box_radius = 600\n",
    "frames = []\n",
    "for instance in layouts[0]:\n",
    "    frame_ids = sorted(layouts[0][instance].keys())\n",
    "    for frame_id in frame_ids:\n",
    "        print(frame_id)\n",
    "        frames.append(layouts[0][instance][frame_id])\n",
    "    break"
   ]
  },
  {
   "cell_type": "code",
   "execution_count": null,
   "id": "2066c451-5e69-490a-a3f5-e85aa417fb63",
   "metadata": {},
   "outputs": [],
   "source": [
    "frames = np.array(frames)"
   ]
  },
  {
   "cell_type": "code",
   "execution_count": null,
   "id": "60cd2efe-6e54-46e0-8f49-d29620393d15",
   "metadata": {},
   "outputs": [],
   "source": [
    "frames.shape"
   ]
  },
  {
   "cell_type": "code",
   "execution_count": null,
   "id": "393103a5-ae44-430e-a5dd-3c434ae44679",
   "metadata": {},
   "outputs": [],
   "source": [
    "cropped = frames[:, 1060-box_radius: 1060+box_radius, 1920-box_radius: 1920+box_radius, :]"
   ]
  },
  {
   "cell_type": "code",
   "execution_count": null,
   "id": "9d8d0d3e-dd7c-42b4-a437-381a6230bb46",
   "metadata": {},
   "outputs": [],
   "source": [
    "cropped.shape"
   ]
  },
  {
   "cell_type": "code",
   "execution_count": null,
   "id": "17564b73-62f3-4b7a-bda0-cc2639af164c",
   "metadata": {},
   "outputs": [],
   "source": [
    "for i in range(cropped.shape[0]):\n",
    "    #display(Image.fromarray(cropped[i]))\n",
    "    pass"
   ]
  },
  {
   "cell_type": "code",
   "execution_count": null,
   "id": "46b059b8-ce3f-48ca-8b15-5b77c577f89b",
   "metadata": {},
   "outputs": [],
   "source": [
    "client_module = sys.modules['stream.client']\n",
    "importlib.reload(client_module)\n",
    "from stream.client import draw_minimap, frames_to_map"
   ]
  },
  {
   "cell_type": "code",
   "execution_count": null,
   "id": "65e8323f-9188-46ed-a5cf-9b3602ac2073",
   "metadata": {},
   "outputs": [],
   "source": [
    "# stitch frames together, tracking origin\n",
    "minimap, origin = frames_to_map(cropped)"
   ]
  },
  {
   "cell_type": "code",
   "execution_count": null,
   "id": "a7b7d997-36d2-4c74-b6c3-757f63de69ab",
   "metadata": {},
   "outputs": [],
   "source": [
    "minimap.shape"
   ]
  },
  {
   "cell_type": "code",
   "execution_count": null,
   "id": "2d568a3a-5ff4-4636-896a-df247b9bfb2b",
   "metadata": {},
   "outputs": [],
   "source": [
    "ent = minimap[origin[0]-100:origin[0]+100, origin[1]-100:origin[1]+100, :]\n",
    "ent.shape"
   ]
  },
  {
   "cell_type": "code",
   "execution_count": null,
   "id": "4f441c9c-98ba-4496-bc67-36a71eb32b1f",
   "metadata": {},
   "outputs": [],
   "source": [
    "Image.fromarray(ent)"
   ]
  },
  {
   "cell_type": "code",
   "execution_count": null,
   "id": "9a2b5d74-90c6-4d8f-85ee-e9615aeeb67c",
   "metadata": {},
   "outputs": [],
   "source": [
    "from helpers import pad_to_square_multiple, shrink_image"
   ]
  },
  {
   "cell_type": "code",
   "execution_count": null,
   "id": "5770bf24-c9d7-45ac-85da-9ed91e61c7b1",
   "metadata": {},
   "outputs": [],
   "source": [
    "# shrink and pad image\n",
    "\n",
    "#Image.fromarray(minimap)\n",
    "dims = minimap.shape[0:2]\n",
    "max_dim_idx = dims.index(max(dims))\n",
    "new_size = dims[max_dim_idx] // 2\n",
    "shrunk_origin = tuple(int(x * new_size / max(dims)) for x in origin)\n",
    "shrunk = shrink_image(minimap, new_size)\n",
    "# Use mask to track origin position\n",
    "mask = np.zeros((*shrunk.shape[0:2], 1))\n",
    "mask[shrunk_origin] = 1\n",
    "shrunk = np.concatenate([shrunk, mask], axis=-1)\n",
    "padded = pad_to_square_multiple(shrunk, 32)\n",
    "shrunk_origin = np.where(padded[..., 3] == 1)\n",
    "shrunk_origin = tuple(int(x[0]) for x in shrunk_origin)\n",
    "padded = padded[:,:,0:3].astype(np.uint8)"
   ]
  },
  {
   "cell_type": "code",
   "execution_count": null,
   "id": "78091481-395d-42c1-b4ea-8428221e5ebe",
   "metadata": {},
   "outputs": [],
   "source": [
    "#Image.fromarray(padded)\n",
    "#Image.fromarray(padded[shrunk_origin[0]-100:shrunk_origin[0]+100, shrunk_origin[1]-100:shrunk_origin[1]+100, :])"
   ]
  },
  {
   "cell_type": "code",
   "execution_count": null,
   "id": "11f7896c-1778-42de-94fa-741cae0c72d7",
   "metadata": {},
   "outputs": [],
   "source": []
  },
  {
   "cell_type": "code",
   "execution_count": null,
   "id": "70c29d1c-72f8-4130-9e9b-5ed1f91eede3",
   "metadata": {},
   "outputs": [],
   "source": [
    "# Run inference to extract mask of minimap features"
   ]
  },
  {
   "cell_type": "code",
   "execution_count": null,
   "id": "5e5b5740-01ef-4a19-a9db-5248a21cb4f3",
   "metadata": {},
   "outputs": [],
   "source": [
    "from models import AttentionUNet"
   ]
  },
  {
   "cell_type": "code",
   "execution_count": null,
   "id": "d0072474-8382-48d4-a349-a7d65ca82ef1",
   "metadata": {},
   "outputs": [],
   "source": [
    "model_name = \"AttentionUNet_4\"\n",
    "model = AttentionUNet(model_name)\n",
    "model.load()"
   ]
  },
  {
   "cell_type": "code",
   "execution_count": null,
   "id": "bf975478-d73a-4ea0-9882-39e3a2d3051f",
   "metadata": {},
   "outputs": [],
   "source": [
    "pred = model.batch_inference(padded, chunk_size=32)"
   ]
  },
  {
   "cell_type": "code",
   "execution_count": null,
   "id": "579b912f-ad38-4fe7-96ff-ea02c2b58895",
   "metadata": {},
   "outputs": [],
   "source": [
    "display(Image.fromarray(padded))\n",
    "display(Image.fromarray(pred * 255, mode=\"L\"))"
   ]
  }
 ],
 "metadata": {
  "kernelspec": {
   "display_name": "poemap",
   "language": "python",
   "name": "poemap"
  },
  "language_info": {
   "codemirror_mode": {
    "name": "ipython",
    "version": 3
   },
   "file_extension": ".py",
   "mimetype": "text/x-python",
   "name": "python",
   "nbconvert_exporter": "python",
   "pygments_lexer": "ipython3",
   "version": "3.11.9"
  }
 },
 "nbformat": 4,
 "nbformat_minor": 5
}
