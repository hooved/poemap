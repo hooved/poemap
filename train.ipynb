{
 "cells": [
  {
   "cell_type": "code",
   "execution_count": null,
   "id": "b994a7f9-78fc-488f-853e-57392a1f0584",
   "metadata": {},
   "outputs": [],
   "source": [
    "from PIL import Image\n",
    "import numpy as np\n",
    "import os\n",
    "from dataloader import DataLoader\n",
    "from models import UNet "
   ]
  },
  {
   "cell_type": "code",
   "execution_count": null,
   "id": "119dfa8b-56b5-4da9-a4be-880abedd0533",
   "metadata": {},
   "outputs": [],
   "source": []
  },
  {
   "cell_type": "code",
   "execution_count": null,
   "id": "dd5a3172-7267-44ac-b815-092d0eefec3a",
   "metadata": {},
   "outputs": [],
   "source": [
    "dl = DataLoader(\n",
    "    image_dir=\"data/auto_crop\",\n",
    "    mask_dir=\"data/mask\",\n",
    "    patch_size=(64,64),\n",
    ")"
   ]
  },
  {
   "cell_type": "markdown",
   "id": "21cdc323-bd45-4545-94a5-22785c6ab392",
   "metadata": {},
   "source": [
    "# Compare raw data vs. desired map features (true mask)"
   ]
  },
  {
   "cell_type": "code",
   "execution_count": null,
   "id": "01af56f3-28ca-4591-8290-de4d86cdd514",
   "metadata": {
    "scrolled": true
   },
   "outputs": [],
   "source": [
    "dl.normalize=False\n",
    "for a,b in zip(*dl.get_batch(16)):\n",
    "    a = a.numpy().astype(np.uint8).transpose(1,2,0)\n",
    "    b = b.numpy().astype(np.uint8) * 255\n",
    "    if np.any(b > 0):\n",
    "        display(Image.fromarray(a))\n",
    "        display(Image.fromarray(b, mode=\"L\"))\n",
    "dl.normalize=True"
   ]
  },
  {
   "cell_type": "markdown",
   "id": "bf3b5ca1-d5ce-4050-9b26-f762c3ebb075",
   "metadata": {},
   "source": [
    "# Train UNet to extract map features (mask) from raw screenshots"
   ]
  },
  {
   "cell_type": "code",
   "execution_count": null,
   "id": "6f186179-4cae-4f62-9d6c-4452b52b6aae",
   "metadata": {},
   "outputs": [],
   "source": [
    "model_name = \"UNet_3\"\n",
    "model = UNet(model_name)\n",
    "model.train()"
   ]
  },
  {
   "cell_type": "code",
   "execution_count": null,
   "id": "199b4fba-3012-4981-8c41-97e5634ea8a5",
   "metadata": {},
   "outputs": [],
   "source": []
  },
  {
   "cell_type": "code",
   "execution_count": null,
   "id": "7f441450-2c9f-4175-b1bf-d3450a09838b",
   "metadata": {},
   "outputs": [],
   "source": [
    "# Load saved model if training was already done\n",
    "model_name = \"UNet_3\"\n",
    "model = UNet.load(model_name)"
   ]
  },
  {
   "cell_type": "markdown",
   "id": "f5ba2773-7040-401f-ad6e-889ea2730378",
   "metadata": {},
   "source": [
    "# Compare predicted mask vs. true mask"
   ]
  },
  {
   "cell_type": "code",
   "execution_count": null,
   "id": "e373e2f0-65cb-43b3-8e40-f16e8eacd6bb",
   "metadata": {},
   "outputs": [],
   "source": [
    "x, y = dl.get_batch(10)\n",
    "\n",
    "y_pred = model(x).argmax(axis=1).cast(dtypes.uint8).numpy()\n",
    "y = y.cast(dtypes.uint8).numpy()\n",
    "for a,b in zip(y_pred,y):\n",
    "    if np.any(b > 0):\n",
    "    #if True:\n",
    "        display(Image.fromarray(a * 255, mode=\"L\"))\n",
    "        display(Image.fromarray(b * 255, mode=\"L\"))\n",
    "        print(\"---------------------------------\")"
   ]
  }
 ],
 "metadata": {
  "kernelspec": {
   "display_name": "poemap",
   "language": "python",
   "name": "poemap"
  },
  "language_info": {
   "codemirror_mode": {
    "name": "ipython",
    "version": 3
   },
   "file_extension": ".py",
   "mimetype": "text/x-python",
   "name": "python",
   "nbconvert_exporter": "python",
   "pygments_lexer": "ipython3",
   "version": "3.11.9"
  }
 },
 "nbformat": 4,
 "nbformat_minor": 5
}
