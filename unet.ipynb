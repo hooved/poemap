{
 "cells": [
  {
   "cell_type": "code",
   "execution_count": null,
   "id": "6b4568c2-1b19-4038-a121-9273b86a4535",
   "metadata": {},
   "outputs": [],
   "source": [
    "\"\"\"\n",
    "Adapted from https://github.com/milesial/Pytorch-UNet\n",
    " and from https://github.com/tinygrad/tinygrad/examples/stable_diffusion.py\n",
    "\"\"\""
   ]
  },
  {
   "cell_type": "code",
   "execution_count": null,
   "id": "b994a7f9-78fc-488f-853e-57392a1f0584",
   "metadata": {},
   "outputs": [],
   "source": [
    "from tinygrad import Tensor\n",
    "from tinygrad.nn import Conv2d, ConvTranspose2d, BatchNorm2d"
   ]
  },
  {
   "cell_type": "code",
   "execution_count": null,
   "id": "b837a9d3-b471-453b-b13b-cc92f03de798",
   "metadata": {},
   "outputs": [],
   "source": [
    "def doubleconv(in_chan, out_chan):\n",
    "    return [Conv2d(in_chan, out_chan, kernel_size=3, padding=1), BatchNorm2d(out_chan), Tensor.relu,\n",
    "        Conv2d(out_chan, out_chan, kernel_size=3, padding=1), BatchNorm2d(out_chan), Tensor.relu]\n",
    "\n",
    "class UNet:\n",
    "    def __init__(self):\n",
    "        self.save_intermediates = [\n",
    "            doubleconv(3, 64), \n",
    "            [Tensor.max_pool2d, *doubleconv(64, 128)],\n",
    "        ]\n",
    "        self.middle = [\n",
    "            Tensor.max_pool2d, *doubleconv(128, 256),\n",
    "            ConvTranspose2d(256, 128, kernel_size=2, stride=2),\n",
    "        ]\n",
    "        self.consume_intermediates = [\n",
    "            [*doubleconv(256, 128), ConvTranspose2d(128, 64, kernel_size=2, stride=2)],\n",
    "            [*doubleconv(128, 64), Conv2d(64, 3, kernel_size=1)],\n",
    "        ]\n",
    "\n",
    "    def __call__(self, x):\n",
    "        intermediates = []\n",
    "        for b in self.save_intermediates:\n",
    "            for bb in b:\n",
    "                x = bb(x)\n",
    "            intermediates.append(x)\n",
    "        for bb in self.middle:\n",
    "            x = bb(x)\n",
    "        for b in self.consume_intermediates:\n",
    "            x = intermediates.pop().cat(x, dim=1)\n",
    "            for bb in b:\n",
    "                x = bb(x)\n",
    "        return x"
   ]
  },
  {
   "cell_type": "code",
   "execution_count": null,
   "id": "a3d5958f-05ce-4120-aaa3-e923fc5ea14b",
   "metadata": {},
   "outputs": [],
   "source": []
  },
  {
   "cell_type": "code",
   "execution_count": null,
   "id": "ea1f28f7-4287-4b88-918e-67d9433bdf5e",
   "metadata": {},
   "outputs": [],
   "source": [
    "unet = UNet()"
   ]
  },
  {
   "cell_type": "code",
   "execution_count": null,
   "id": "be82c5fa-7069-4b04-b8b4-3f094db5c6a5",
   "metadata": {},
   "outputs": [],
   "source": [
    "x = Tensor.randn(1,3,100,100)\n",
    "y = unet(x)\n",
    "assert x.shape == y.shape"
   ]
  },
  {
   "cell_type": "code",
   "execution_count": null,
   "id": "a01475c1-acaa-4d6b-a0fa-4c6d7313744a",
   "metadata": {},
   "outputs": [],
   "source": []
  }
 ],
 "metadata": {
  "kernelspec": {
   "display_name": "poemap",
   "language": "python",
   "name": "poemap"
  },
  "language_info": {
   "codemirror_mode": {
    "name": "ipython",
    "version": 3
   },
   "file_extension": ".py",
   "mimetype": "text/x-python",
   "name": "python",
   "nbconvert_exporter": "python",
   "pygments_lexer": "ipython3",
   "version": "3.11.9"
  }
 },
 "nbformat": 4,
 "nbformat_minor": 5
}
