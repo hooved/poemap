{
 "cells": [
  {
   "cell_type": "code",
   "execution_count": null,
   "id": "e76a9ac6-a429-4eab-a559-c143dcf7209d",
   "metadata": {},
   "outputs": [],
   "source": [
    "from PIL import Image\n",
    "import cv2\n",
    "import numpy as np\n",
    "import os\n",
    "from models import UNet\n",
    "from helpers import pad_to_square_multiple"
   ]
  },
  {
   "cell_type": "code",
   "execution_count": null,
   "id": "0dc95f03-4cca-481d-a233-fa2068a11def",
   "metadata": {},
   "outputs": [],
   "source": [
    "model = UNet.load(\"UNet_3\")"
   ]
  },
  {
   "cell_type": "markdown",
   "id": "58ac359e-a546-4ee1-8cfc-1d0406a06167",
   "metadata": {},
   "source": [
    "# Extract map features"
   ]
  },
  {
   "cell_type": "code",
   "execution_count": null,
   "id": "f4318164-9a08-4c90-ae01-de649085f728",
   "metadata": {},
   "outputs": [],
   "source": [
    "layout_path = \"data/layout\"\n",
    "for file in os.listdir(f\"{layout_path}/raw\")[0:1]:\n",
    "    path = os.path.join(f\"{layout_path}/raw\", file)\n",
    "    x = Image.open(path)\n",
    "    x = np.array(x)[:,:,:3]\n",
    "    chunk_size = 64\n",
    "    x = pad_to_square_multiple(x, chunk_size)\n",
    "    x = model.batch_inference(x, chunk_size=chunk_size)\n",
    "    output_path = os.path.join(f\"{layout_path}/extract\", os.path.splitext(file)[0] + \".npz\")\n",
    "    np.savez_compressed(output_path, data=x)"
   ]
  },
  {
   "cell_type": "code",
   "execution_count": null,
   "id": "09c8b952-ecc0-415a-83b2-55695b8163f8",
   "metadata": {
    "scrolled": true
   },
   "outputs": [],
   "source": [
    "ex = 2\n",
    "path = f\"data/layout/raw/coast-{ex}.png\"\n",
    "display(Image.open(path))\n",
    "output_path = f\"data/layout/extract/coast-{ex}.npz\"\n",
    "display(Image.fromarray(np.load(output_path)['data'] * 255, mode=\"L\"))"
   ]
  },
  {
   "cell_type": "markdown",
   "id": "bf39b3db-8a66-4a68-afeb-5fd704e08fd6",
   "metadata": {},
   "source": [
    "# Manually label layout classes"
   ]
  },
  {
   "cell_type": "code",
   "execution_count": null,
   "id": "c5a12947-d321-4764-8804-0ad88db99098",
   "metadata": {},
   "outputs": [],
   "source": [
    "def resize_square(image, max_size):\n",
    "    image = image.astype(np.uint8)\n",
    "    height, width = image.shape\n",
    "    scale = min(max_size / width, max_size / height)\n",
    "    new_width = int(width * scale)\n",
    "    new_height = int(height * scale)\n",
    "    block_height = height // new_height\n",
    "    block_width = width // new_width\n",
    "    reshaped = image[:block_height*new_height, :block_width*new_width]\n",
    "    reshaped = reshaped.reshape(new_height, block_height, new_width, block_width)\n",
    "    pooled = reshaped.max(axis=(1, 3))\n",
    "    square_image = np.zeros((max_size, max_size), dtype=np.uint8)\n",
    "    pad_y = (max_size - new_height) // 2\n",
    "    pad_x = (max_size - new_width) // 2\n",
    "    square_image[pad_y:pad_y+new_height, pad_x:pad_x+new_width] = pooled\n",
    "    return square_image"
   ]
  },
  {
   "cell_type": "code",
   "execution_count": null,
   "id": "6f5d38c7-6b5f-45d7-9320-dd44a725cd04",
   "metadata": {},
   "outputs": [],
   "source": [
    "truth_labels = [\n",
    "    0, 1, 0, 2,\n",
    "    3, 2, 4, 5,\n",
    "    6, 6, 7, 3,\n",
    "    5, 7, 8,\n",
    "]\n",
    "layouts = []\n",
    "layout_dir = \"data/layout/extract\"\n",
    "for file in sorted(os.listdir(layout_dir), key=lambda x: int(x.split('coast-')[1].split('.npz')[0])):\n",
    "    layout = np.load(os.path.join(layout_dir, file))['data']\n",
    "    layouts.append(resize_square(layout, 400))\n",
    "\n",
    "row_size = 4\n",
    "for i in range(0, len(layouts), row_size):\n",
    "    row = np.concatenate(layouts[i:i + row_size], axis=1)\n",
    "    display(Image.fromarray(row * 255, mode=\"L\"))\n",
    "    labels = truth_labels[i:i+row_size]\n",
    "    print(labels)"
   ]
  },
  {
   "cell_type": "code",
   "execution_count": null,
   "id": "893e453a-062a-4717-83f0-1bdd8a1528b9",
   "metadata": {},
   "outputs": [],
   "source": [
    "truth_labels = [\n",
    "    0, 1, 0, 2,\n",
    "    3, 2, 4, 5,\n",
    "    6, 6, 7, 3,\n",
    "    5, 7, 8,\n",
    "]\n",
    "layouts = []\n",
    "layout_dir = \"data/layout/extract\"\n",
    "for file in sorted(os.listdir(layout_dir), key=lambda x: int(x.split('coast-')[1].split('.npz')[0])):\n",
    "    layout = np.load(os.path.join(layout_dir, file))['data']\n",
    "    layouts.append(resize_square(layout, 400))\n",
    "\n",
    "grouped = {}\n",
    "for i, label in enumerate(truth_labels):\n",
    "    if grouped.get(label) is None:\n",
    "        grouped[label] = []\n",
    "    grouped[label].append(layouts[i])"
   ]
  },
  {
   "cell_type": "code",
   "execution_count": null,
   "id": "9fba23c4-f03b-49b6-b751-4513598bcd7d",
   "metadata": {},
   "outputs": [],
   "source": [
    "unique_layouts, unique_labels = [], []\n",
    "for group in grouped:\n",
    "    unique_layouts.append(grouped[group][0])\n",
    "    unique_labels.append(group)\n",
    "                          \n",
    "row_size = 4\n",
    "for i in range(0, len(unique_layouts), row_size):\n",
    "    row = np.concatenate(unique_layouts[i:i + row_size], axis=1)\n",
    "    display(Image.fromarray(row * 255, mode=\"L\"))\n",
    "    labels = unique_labels[i:i+row_size]\n",
    "    print(labels)"
   ]
  }
 ],
 "metadata": {
  "kernelspec": {
   "display_name": "poemap",
   "language": "python",
   "name": "poemap"
  },
  "language_info": {
   "codemirror_mode": {
    "name": "ipython",
    "version": 3
   },
   "file_extension": ".py",
   "mimetype": "text/x-python",
   "name": "python",
   "nbconvert_exporter": "python",
   "pygments_lexer": "ipython3",
   "version": "3.11.9"
  }
 },
 "nbformat": 4,
 "nbformat_minor": 5
}
